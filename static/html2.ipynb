{
 "cells": [
  {
   "cell_type": "code",
   "execution_count": 2,
   "id": "f2269336-b194-42c0-ada6-a7689c108d10",
   "metadata": {},
   "outputs": [
    {
     "name": "stdout",
     "output_type": "stream",
     "text": [
      "Overwriting index.html\n"
     ]
    }
   ],
   "source": [
    "%%writefile index.html\n",
    "<!DOCTYPE html>\n",
    "<html lang=\"zh-CN\">\n",
    "<head>\n",
    "    <meta charset=\"UTF-8\">\n",
    "    <meta name=\"viewport\" content=\"width=device-width, initial-scale=1.0\">\n",
    "    <link rel=\"stylesheet\" href=\"styles.css\">\n",
    "    <title>Webpage Design</title>\n",
    "</head>\n",
    "<body>\n",
    "    <div class=\"container\">\n",
    "        <div class=\"box a\">\n",
    "            <div class=\"a1\">\n",
    "                <img src=\"logo.png\" alt=\"Logo\">\n",
    "                <h1>谛听版权保护</h1>\n",
    "            </div>\n",
    "            <div class=\"a2\">\n",
    "                <div class=\"menu-item\">\n",
    "                    <img src=\"icon1（2）.png\" alt=\"Icon1\">\n",
    "                    <p>数据中心</p>\n",
    "                    <img src=\"arrow.png\" alt=\"Arrow\">\n",
    "                </div>\n",
    "                <div class=\"menu-item\">\n",
    "                    <img src=\"icon2.png\" alt=\"Icon2\">\n",
    "                    <p>登记管理</p>\n",
    "                    <img src=\"arrow.png\" alt=\"Arrow\">\n",
    "                </div>\n",
    "                <div class=\"menu-item\">\n",
    "                    <img src=\"icon3（2）.png\" alt=\"Icon3\">\n",
    "                    <p1>数据对比</p1>\n",
    "                    <img src=\"arrow1.png\" alt=\"Arrow\">\n",
    "                </div>\n",
    "            </div>\n",
    "        </div>\n",
    "        <div class=\"main-content\">\n",
    "            <div class=\"box b\">\n",
    "                <div class=\"b-header\">\n",
    "                    <input type=\"text\" placeholder=\"请输入搜索关键词\">\n",
    "                    <div class=\"user-profile\">\n",
    "                        <img src=\"user.png\" alt=\"游客9527\"> \n",
    "                    </div>\n",
    "                    <span>游客9527</span>\n",
    "                </div>\n",
    "            </div>\n",
    "            <div class=\"box c\">\n",
    "                <div class=\"c-body\">\n",
    "                    <div class=\"c1\">\n",
    "                        <img src=\"charta.png\" alt=\"Chart1\">\n",
    "                    </div>\n",
    "                    <div class=\"c2\">\n",
    "                        <img src=\"chartb.png\" alt=\"Chart2\">\n",
    "                    </div>\n",
    "                    <div class=\"c3\">\n",
    "                        <img src=\"chartc.png\" alt=\"Chart3\">\n",
    "                    </div>\n",
    "                    <div class=\"c4\">\n",
    "                        <img src=\"chartd.png\" alt=\"Chart4\">\n",
    "                    </div>\n",
    "                    <div class=\"c5\">\n",
    "                        <img src=\"charte.png\" alt=\"Chart5\">\n",
    "                    </div>\n",
    "                </div>\n",
    "            </div>\n",
    "        </div>\n",
    "    </div>\n",
    "</body>\n",
    "</html>"
   ]
  },
  {
   "cell_type": "code",
   "execution_count": null,
   "id": "93636ffc-8253-437d-963c-443605ad04ab",
   "metadata": {},
   "outputs": [],
   "source": []
  }
 ],
 "metadata": {
  "kernelspec": {
   "display_name": "Python 3 (ipykernel)",
   "language": "python",
   "name": "python3"
  },
  "language_info": {
   "codemirror_mode": {
    "name": "ipython",
    "version": 3
   },
   "file_extension": ".py",
   "mimetype": "text/x-python",
   "name": "python",
   "nbconvert_exporter": "python",
   "pygments_lexer": "ipython3",
   "version": "3.8.19"
  }
 },
 "nbformat": 4,
 "nbformat_minor": 5
}
